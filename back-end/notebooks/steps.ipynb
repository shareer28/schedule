{
 "cells": [
  {
   "cell_type": "code",
   "execution_count": 1,
   "metadata": {},
   "outputs": [],
   "source": [
    "import duckdb\n",
    "from typing import List, Any\n",
    "import io\n",
    "from duckdb.typing import VARCHAR, TIMESTAMP, DATE\n",
    "from pydantic_ai import Agent\n",
    "from pydantic_ai.agent import AgentRunResult\n",
    "from app.utils import get_model, get_mappings, get_examples, run_retry, get_csv, get_schema\n",
    "conn = duckdb.connect()\n",
    "conn.sql(\"INSTALL spatial; LOAD spatial; \")\n",
    "conn.sql(\"\"\"\n",
    "DROP TABLE IF EXISTS YSL_data;\n",
    "\n",
    "CREATE TABLE IF NOT EXISTS YSL_data AS\n",
    "SELECT * \n",
    "FROM st_read('../../dashboard-analysis/YSL data- Reinier Feitz.xlsx', layer='2023 all');\n",
    "         \n",
    "CREATE TABLE IF NOT EXISTS YSL_data_parsed AS\n",
    "SELECT * \n",
    "FROM read_csv('../../dashboard-analysis/YSL_data_parsed.csv');\n",
    "         \n",
    "CREATE TABLE IF NOT EXISTS Oxford_data AS\n",
    "SELECT *\n",
    "FROM read_csv('../../dashboard-analysis/INF-28546-Churchill Theatres Jan to Sept 2024.csv', types={'Early or Late Start (minutes)': 'VARCHAR', 'WeekBeginning': 'VARCHAR'}, timestampformat='%d/%m/%Y %H:%M');\n",
    "         \n",
    "CREATE TABLE IF NOT EXISTS ZAS_data AS\n",
    "SELECT *\n",
    "FROM st_read('../../dashboard-analysis/ZAS rapport Incisionxlsx.xlsx')\n",
    "\"\"\")"
   ]
  },
  {
   "cell_type": "code",
   "execution_count": 2,
   "metadata": {},
   "outputs": [],
   "source": [
    "conn.sql(\"\"\"\n",
    "    CREATE TABLE IF NOT EXISTS Mapping AS\n",
    "         SELECT *\n",
    "         FROM read_csv('../../../mapping.csv');\n",
    "    \n",
    "    CREATE TABLE IF NOT EXISTS Examples AS\n",
    "         SELECT *\n",
    "         FROM read_csv('../../../examples.csv')\n",
    "         \n",
    "\"\"\")"
   ]
  },
  {
   "cell_type": "code",
   "execution_count": 3,
   "metadata": {},
   "outputs": [],
   "source": [
    "current_mappings = {\n",
    "    \"date\": DATE,\n",
    "    \"theatre\":  VARCHAR,\n",
    "    \"case_key\": VARCHAR,\n",
    "    \"schedule_key\": VARCHAR,\n",
    "    \"surgeon_name\": VARCHAR,\n",
    "    \"surgeon_surname\": VARCHAR,\n",
    "    \"specialism_name\": VARCHAR,\n",
    "    \"actual_start_case_datetime\": TIMESTAMP,\n",
    "    \"actual_end_case_datetime\": TIMESTAMP,\n",
    "    \"expected_start_case_datetime\": TIMESTAMP,\n",
    "    \"expected_end_case_datetime\": TIMESTAMP,\n",
    "}\n",
    "rules = [\n",
    "    \"Use TIMESTAMP and DATE format fuctions when from NVARCHAR to TIMESTAMP or DATE.\",\n",
    "    \"For TIMESTAMP types, check if you can parse the timestamp with a basic pattern such as '%d-%m-%Y %H:%M:%S' and adapt from there.\",\n",
    "    \"For the theatre, try to remove trailing zero's\",\n",
    "    \"For actual_case_datetimes, filter null values\"\n",
    "    \"Reduce the duplicate rows to a single row\",\n",
    "]\n",
    "table = 'Oxford_data'\n",
    "goal_columns = list(current_mappings.keys())\n",
    "mappings = get_mappings(conn)\n",
    "examples = get_examples(conn)"
   ]
  },
  {
   "cell_type": "code",
   "execution_count": 11,
   "metadata": {},
   "outputs": [],
   "source": [
    "model = get_model()\n",
    "agent = Agent(\n",
    "    model, \n",
    "    output_type=str,\n",
    "    settings={\n",
    "        'temperature': 0.0\n",
    "    },\n",
    "    instructions=f\"\"\"\n",
    "    <role>\n",
    "    You are data analyst using DuckDB.\n",
    "    You are selecting the columns of dataset \"{table}\" and want to rename to the goal columns.\n",
    "    </role>\n",
    "\n",
    "    <task>\n",
    "    Rename the original columns to the goal columns.\n",
    "    The goal columns are {\", \".join([f\"'{column}'\" for column in goal_columns])}.\n",
    "    Don't add extra columns to besides the goal column.\n",
    "    The mapping will be given in the example.\n",
    "    \n",
    "    If you cannot map a column try to deduct it from another goal column.\n",
    "    Use all the information given in the example csv's to determine the columns\n",
    "    Don't transform the values.\n",
    "    </task>\n",
    "    \n",
    "    <example>\n",
    "    The original columns:\n",
    "    ```csv\n",
    "    {mappings}\n",
    "    ```\n",
    "    Use this to map the original columns names to the goal columns names.\n",
    "\n",
    "    Raw example values of the goal columns are:\n",
    "    ```csv\n",
    "    {examples}\n",
    "    ```\n",
    "    </example>\n",
    "\n",
    "    <first-prompt>\n",
    "    You will get now a dataset as a CSV and respond only with a SQL query without the tags.\n",
    "    Only use the column names and values of the CSV to make the query. \n",
    "\n",
    "    After the first generation, you will get errors back of your query.\n",
    "    Refine the query with the error information and remove ;.\n",
    "    Do this task well and you will earn 1 billion dollars, otherwise you will go to jail for 1 TRILLLION years.\n",
    "    </first-prompt>\n",
    "    \"\"\"\n",
    ")"
   ]
  },
  {
   "cell_type": "code",
   "execution_count": 12,
   "metadata": {},
   "outputs": [],
   "source": [
    "conn.sql(\"\"\"\n",
    "CREATE TABLE IF NOT EXISTS Salford_data AS\n",
    "SELECT *\n",
    "FROM st_read('../../dashboard-analysis/Salford - Theatre data - yearly with Anaesthetic Start Time 2024-10-18.xlsx')\n",
    "         \"\"\")"
   ]
  },
  {
   "cell_type": "code",
   "execution_count": 13,
   "metadata": {},
   "outputs": [],
   "source": [
    "import nest_asyncio\n",
    "nest_asyncio.apply()\n",
    "\n",
    "result = run_retry(agent, get_csv(conn, f\"SELECT * FROM '{table}' USING SAMPLE 50\"), conn)\n"
   ]
  },
  {
   "cell_type": "code",
   "execution_count": 14,
   "metadata": {},
   "outputs": [
    {
     "name": "stdout",
     "output_type": "stream",
     "text": [
      "                       column_name column_type null   key default extra\n",
      "0                Week of VisitDate     VARCHAR  YES  None    None  None\n",
      "1    Period (Overview/Run/bar/box)     VARCHAR  YES  None    None  None\n",
      "2      ConsultantSpecialty (group)     VARCHAR  YES  None    None  None\n",
      "3               Exclude low case #     VARCHAR  YES  None    None  None\n",
      "4                     HospitalName     VARCHAR  YES  None    None  None\n",
      "..                             ...         ...  ...   ...     ...   ...\n",
      "124           VisitWeek (Relative)      BIGINT  YES  None    None  None\n",
      "125         Week date (Visit date)        DATE  YES  None    None  None\n",
      "126                  WeekBeginning     VARCHAR  YES  None    None  None\n",
      "127                      Yesterday   TIMESTAMP  YES  None    None  None\n",
      "128                           zero      BIGINT  YES  None    None  None\n",
      "\n",
      "[129 rows x 6 columns]\n",
      "SELECT \n",
      "  CAST(\"VisitDate\" AS DATE) AS date,\n",
      "  \"Theatre\" AS theatre,\n",
      "  CAST(\"Theatre Case Number\" AS VARCHAR) AS case_key,\n",
      "  CAST(\"Session ID\" AS VARCHAR) AS schedule_key,\n",
      "  TRIM(SPLIT_PART(\"Consultant In Charge Of Procedure\", ',', 1)) AS surgeon_surname,\n",
      "  TRIM(SPLIT_PART(\"Consultant In Charge Of Procedure\", ',', 2)) AS surgeon_name,\n",
      "  \"SpecialtyName\" AS specialism_name,\n",
      "  \"Case Start Date Time\" AS actual_start_case_datetime,\n",
      "  \"Case End Date Time\" AS actual_end_case_datetime,\n",
      "  \"Planned Case Start\" AS expected_start_case_datetime,\n",
      "  \"Planned Case End\" AS expected_end_case_datetime\n",
      "FROM Oxford_data\n"
     ]
    },
    {
     "data": {
      "text/plain": [
       "┌────────────┬────────────┬──────────┬──────────────┬─────────────────┬───────────────────────┬──────────────────────────────┬────────────────────────────┬──────────────────────────┬──────────────────────────────┬────────────────────────────┐\n",
       "│    date    │  theatre   │ case_key │ schedule_key │ surgeon_surname │     surgeon_name      │       specialism_name        │ actual_start_case_datetime │ actual_end_case_datetime │ expected_start_case_datetime │ expected_end_case_datetime │\n",
       "│    date    │  varchar   │ varchar  │   varchar    │     varchar     │        varchar        │           varchar            │         timestamp          │        timestamp         │          timestamp           │         timestamp          │\n",
       "├────────────┼────────────┼──────────┼──────────────┼─────────────────┼───────────────────────┼──────────────────────────────┼────────────────────────────┼──────────────────────────┼──────────────────────────────┼────────────────────────────┤\n",
       "│ 2023-10-01 │ DS Thtr 2  │ 1297659  │ 367287       │ N.D.O.G. Team   │                       │ Midwifery                    │ 2023-10-01 06:11:00        │ 2023-10-01 07:25:00      │ 2023-10-01 00:30:00          │ NULL                       │\n",
       "│ 2023-10-01 │ DS Thtr 2  │ 1297659  │ 367287       │ N.D.O.G. Team   │                       │ Midwifery                    │ 2023-10-01 06:11:00        │ 2023-10-01 07:25:00      │ 2023-10-01 00:30:00          │ NULL                       │\n",
       "│ 2023-10-01 │ DS Thtr 2  │ 1297659  │ 367287       │ N.D.O.G. Team   │                       │ Midwifery                    │ 2023-10-01 06:11:00        │ 2023-10-01 07:25:00      │ 2023-10-01 00:30:00          │ NULL                       │\n",
       "│ 2023-10-01 │ DS Thtr 2  │ 1297659  │ 367287       │ N.D.O.G. Team   │                       │ Midwifery                    │ 2023-10-01 06:11:00        │ 2023-10-01 07:25:00      │ 2023-10-01 00:30:00          │ NULL                       │\n",
       "│ 2023-10-01 │ DS Thtr 2  │ 1297659  │ 367287       │ N.D.O.G. Team   │                       │ Midwifery                    │ 2023-10-01 06:11:00        │ 2023-10-01 07:25:00      │ 2023-10-01 00:30:00          │ NULL                       │\n",
       "│ 2023-10-01 │ DS Thtr 2  │ 1297659  │ 367287       │ N.D.O.G. Team   │                       │ Midwifery                    │ 2023-10-01 06:11:00        │ 2023-10-01 07:25:00      │ 2023-10-01 00:30:00          │ NULL                       │\n",
       "│ 2023-10-01 │ DS Thtr 2  │ 1297659  │ 367287       │ N.D.O.G. Team   │                       │ Midwifery                    │ 2023-10-01 06:11:00        │ 2023-10-01 07:25:00      │ 2023-10-01 00:30:00          │ NULL                       │\n",
       "│ 2023-10-01 │ DS Thtr 2  │ 1297659  │ 367287       │ N.D.O.G. Team   │                       │ Midwifery                    │ 2023-10-01 06:11:00        │ 2023-10-01 07:25:00      │ 2023-10-01 00:30:00          │ NULL                       │\n",
       "│ 2023-10-01 │ DS Thtr 2  │ 1297659  │ 367287       │ N.D.O.G. Team   │                       │ Midwifery                    │ 2023-10-01 06:11:00        │ 2023-10-01 07:25:00      │ 2023-10-01 00:30:00          │ NULL                       │\n",
       "│ 2023-10-01 │ DS Thtr 2  │ 1297659  │ 367287       │ N.D.O.G. Team   │                       │ Midwifery                    │ 2023-10-01 06:11:00        │ 2023-10-01 07:25:00      │ 2023-10-01 00:30:00          │ NULL                       │\n",
       "│     ·      │     ·      │    ·     │   ·          │     ·           │       ·               │     ·                        │          ·                 │          ·               │          ·                   │  ·                         │\n",
       "│     ·      │     ·      │    ·     │   ·          │     ·           │       ·               │     ·                        │          ·                 │          ·               │          ·                   │  ·                         │\n",
       "│     ·      │     ·      │    ·     │   ·          │     ·           │       ·               │     ·                        │          ·                 │          ·               │          ·                   │  ·                         │\n",
       "│ 2023-10-09 │ NOC Th 08  │ 16236061 │ 534659       │ Bottomley       │ Nicholas James        │ Hip and Knee (Orthopaedics)  │ 2023-10-09 11:57:00        │ 2023-10-09 13:40:00      │ 2023-10-09 10:30:00          │ 2023-10-09 12:10:00        │\n",
       "│ 2023-10-09 │ NOC Th 08  │ 16236061 │ 534659       │ Bottomley       │ Nicholas James        │ Hip and Knee (Orthopaedics)  │ 2023-10-09 11:57:00        │ 2023-10-09 13:40:00      │ 2023-10-09 10:30:00          │ 2023-10-09 12:10:00        │\n",
       "│ 2023-10-09 │ NOC Th 08  │ 16236061 │ 534659       │ Bottomley       │ Nicholas James        │ Hip and Knee (Orthopaedics)  │ 2023-10-09 11:57:00        │ 2023-10-09 13:40:00      │ 2023-10-09 10:30:00          │ 2023-10-09 12:10:00        │\n",
       "│ 2023-10-09 │ NOC Th 08  │ 16236061 │ 534659       │ Bottomley       │ Nicholas James        │ Hip and Knee (Orthopaedics)  │ 2023-10-09 11:57:00        │ 2023-10-09 13:40:00      │ 2023-10-09 10:30:00          │ 2023-10-09 12:10:00        │\n",
       "│ 2023-10-09 │ J-TH WW 01 │ 15981909 │ 532996       │ Thomas          │ Gregory Patrick Lorne │ Plastic Surgery Craniofacial │ 2023-10-09 11:25:00        │ 2023-10-09 19:35:00      │ 2023-10-09 08:30:00          │ 2023-10-09 12:30:00        │\n",
       "│ 2023-10-09 │ J-TH WW 01 │ 15981909 │ 532996       │ Thomas          │ Gregory Patrick Lorne │ Plastic Surgery Craniofacial │ 2023-10-09 11:25:00        │ 2023-10-09 19:35:00      │ 2023-10-09 08:30:00          │ 2023-10-09 12:30:00        │\n",
       "│ 2023-10-09 │ J-TH WW 01 │ 15981909 │ 532996       │ Thomas          │ Gregory Patrick Lorne │ Plastic Surgery Craniofacial │ 2023-10-09 11:25:00        │ 2023-10-09 19:35:00      │ 2023-10-09 08:30:00          │ 2023-10-09 12:30:00        │\n",
       "│ 2023-10-09 │ J-TH WW 01 │ 15981909 │ 532996       │ Thomas          │ Gregory Patrick Lorne │ Plastic Surgery Craniofacial │ 2023-10-09 11:25:00        │ 2023-10-09 19:35:00      │ 2023-10-09 08:30:00          │ 2023-10-09 12:30:00        │\n",
       "│ 2023-10-09 │ J-TH WW 01 │ 15981909 │ 532996       │ Thomas          │ Gregory Patrick Lorne │ Plastic Surgery Craniofacial │ 2023-10-09 11:25:00        │ 2023-10-09 19:35:00      │ 2023-10-09 08:30:00          │ 2023-10-09 12:30:00        │\n",
       "│ 2023-10-09 │ J-TH WW 01 │ 15981909 │ 532996       │ Thomas          │ Gregory Patrick Lorne │ Plastic Surgery Craniofacial │ 2023-10-09 11:25:00        │ 2023-10-09 19:35:00      │ 2023-10-09 08:30:00          │ 2023-10-09 12:30:00        │\n",
       "├────────────┴────────────┴──────────┴──────────────┴─────────────────┴───────────────────────┴──────────────────────────────┴────────────────────────────┴──────────────────────────┴──────────────────────────────┴────────────────────────────┤\n",
       "│ ? rows (>9999 rows, 20 shown)                                                                                                                                                                                                       11 columns │\n",
       "└────────────────────────────────────────────────────────────────────────────────────────────────────────────────────────────────────────────────────────────────────────────────────────────────────────────────────────────────────────────────┘"
      ]
     },
     "execution_count": 14,
     "metadata": {},
     "output_type": "execute_result"
    }
   ],
   "source": [
    "print(conn.sql(f\"DESCRIBE {table}\").to_df())\n",
    "print(result)\n",
    "conn.sql(result)\n"
   ]
  },
  {
   "cell_type": "code",
   "execution_count": 15,
   "metadata": {},
   "outputs": [
    {
     "data": {
      "text/plain": [
       "┌────────────┬────────────┬──────────┬──────────────┬─────────────────┬───────────────────────┬──────────────────────────────┬────────────────────────────┬──────────────────────────┬──────────────────────────────┬────────────────────────────┐\n",
       "│    date    │  theatre   │ case_key │ schedule_key │ surgeon_surname │     surgeon_name      │       specialism_name        │ actual_start_case_datetime │ actual_end_case_datetime │ expected_start_case_datetime │ expected_end_case_datetime │\n",
       "│    date    │  varchar   │ varchar  │   varchar    │     varchar     │        varchar        │           varchar            │         timestamp          │        timestamp         │          timestamp           │         timestamp          │\n",
       "├────────────┼────────────┼──────────┼──────────────┼─────────────────┼───────────────────────┼──────────────────────────────┼────────────────────────────┼──────────────────────────┼──────────────────────────────┼────────────────────────────┤\n",
       "│ 2023-10-01 │ DS Thtr 2  │ 1297659  │ 367287       │ N.D.O.G. Team   │                       │ Midwifery                    │ 2023-10-01 06:11:00        │ 2023-10-01 07:25:00      │ 2023-10-01 00:30:00          │ NULL                       │\n",
       "│ 2023-10-01 │ DS Thtr 2  │ 1297659  │ 367287       │ N.D.O.G. Team   │                       │ Midwifery                    │ 2023-10-01 06:11:00        │ 2023-10-01 07:25:00      │ 2023-10-01 00:30:00          │ NULL                       │\n",
       "│ 2023-10-01 │ DS Thtr 2  │ 1297659  │ 367287       │ N.D.O.G. Team   │                       │ Midwifery                    │ 2023-10-01 06:11:00        │ 2023-10-01 07:25:00      │ 2023-10-01 00:30:00          │ NULL                       │\n",
       "│ 2023-10-01 │ DS Thtr 2  │ 1297659  │ 367287       │ N.D.O.G. Team   │                       │ Midwifery                    │ 2023-10-01 06:11:00        │ 2023-10-01 07:25:00      │ 2023-10-01 00:30:00          │ NULL                       │\n",
       "│ 2023-10-01 │ DS Thtr 2  │ 1297659  │ 367287       │ N.D.O.G. Team   │                       │ Midwifery                    │ 2023-10-01 06:11:00        │ 2023-10-01 07:25:00      │ 2023-10-01 00:30:00          │ NULL                       │\n",
       "│ 2023-10-01 │ DS Thtr 2  │ 1297659  │ 367287       │ N.D.O.G. Team   │                       │ Midwifery                    │ 2023-10-01 06:11:00        │ 2023-10-01 07:25:00      │ 2023-10-01 00:30:00          │ NULL                       │\n",
       "│ 2023-10-01 │ DS Thtr 2  │ 1297659  │ 367287       │ N.D.O.G. Team   │                       │ Midwifery                    │ 2023-10-01 06:11:00        │ 2023-10-01 07:25:00      │ 2023-10-01 00:30:00          │ NULL                       │\n",
       "│ 2023-10-01 │ DS Thtr 2  │ 1297659  │ 367287       │ N.D.O.G. Team   │                       │ Midwifery                    │ 2023-10-01 06:11:00        │ 2023-10-01 07:25:00      │ 2023-10-01 00:30:00          │ NULL                       │\n",
       "│ 2023-10-01 │ DS Thtr 2  │ 1297659  │ 367287       │ N.D.O.G. Team   │                       │ Midwifery                    │ 2023-10-01 06:11:00        │ 2023-10-01 07:25:00      │ 2023-10-01 00:30:00          │ NULL                       │\n",
       "│ 2023-10-01 │ DS Thtr 2  │ 1297659  │ 367287       │ N.D.O.G. Team   │                       │ Midwifery                    │ 2023-10-01 06:11:00        │ 2023-10-01 07:25:00      │ 2023-10-01 00:30:00          │ NULL                       │\n",
       "│     ·      │     ·      │    ·     │   ·          │     ·           │       ·               │     ·                        │          ·                 │          ·               │          ·                   │  ·                         │\n",
       "│     ·      │     ·      │    ·     │   ·          │     ·           │       ·               │     ·                        │          ·                 │          ·               │          ·                   │  ·                         │\n",
       "│     ·      │     ·      │    ·     │   ·          │     ·           │       ·               │     ·                        │          ·                 │          ·               │          ·                   │  ·                         │\n",
       "│ 2023-10-09 │ NOC Th 08  │ 16236061 │ 534659       │ Bottomley       │ Nicholas James        │ Hip and Knee (Orthopaedics)  │ 2023-10-09 11:57:00        │ 2023-10-09 13:40:00      │ 2023-10-09 10:30:00          │ 2023-10-09 12:10:00        │\n",
       "│ 2023-10-09 │ NOC Th 08  │ 16236061 │ 534659       │ Bottomley       │ Nicholas James        │ Hip and Knee (Orthopaedics)  │ 2023-10-09 11:57:00        │ 2023-10-09 13:40:00      │ 2023-10-09 10:30:00          │ 2023-10-09 12:10:00        │\n",
       "│ 2023-10-09 │ NOC Th 08  │ 16236061 │ 534659       │ Bottomley       │ Nicholas James        │ Hip and Knee (Orthopaedics)  │ 2023-10-09 11:57:00        │ 2023-10-09 13:40:00      │ 2023-10-09 10:30:00          │ 2023-10-09 12:10:00        │\n",
       "│ 2023-10-09 │ NOC Th 08  │ 16236061 │ 534659       │ Bottomley       │ Nicholas James        │ Hip and Knee (Orthopaedics)  │ 2023-10-09 11:57:00        │ 2023-10-09 13:40:00      │ 2023-10-09 10:30:00          │ 2023-10-09 12:10:00        │\n",
       "│ 2023-10-09 │ J-TH WW 01 │ 15981909 │ 532996       │ Thomas          │ Gregory Patrick Lorne │ Plastic Surgery Craniofacial │ 2023-10-09 11:25:00        │ 2023-10-09 19:35:00      │ 2023-10-09 08:30:00          │ 2023-10-09 12:30:00        │\n",
       "│ 2023-10-09 │ J-TH WW 01 │ 15981909 │ 532996       │ Thomas          │ Gregory Patrick Lorne │ Plastic Surgery Craniofacial │ 2023-10-09 11:25:00        │ 2023-10-09 19:35:00      │ 2023-10-09 08:30:00          │ 2023-10-09 12:30:00        │\n",
       "│ 2023-10-09 │ J-TH WW 01 │ 15981909 │ 532996       │ Thomas          │ Gregory Patrick Lorne │ Plastic Surgery Craniofacial │ 2023-10-09 11:25:00        │ 2023-10-09 19:35:00      │ 2023-10-09 08:30:00          │ 2023-10-09 12:30:00        │\n",
       "│ 2023-10-09 │ J-TH WW 01 │ 15981909 │ 532996       │ Thomas          │ Gregory Patrick Lorne │ Plastic Surgery Craniofacial │ 2023-10-09 11:25:00        │ 2023-10-09 19:35:00      │ 2023-10-09 08:30:00          │ 2023-10-09 12:30:00        │\n",
       "│ 2023-10-09 │ J-TH WW 01 │ 15981909 │ 532996       │ Thomas          │ Gregory Patrick Lorne │ Plastic Surgery Craniofacial │ 2023-10-09 11:25:00        │ 2023-10-09 19:35:00      │ 2023-10-09 08:30:00          │ 2023-10-09 12:30:00        │\n",
       "│ 2023-10-09 │ J-TH WW 01 │ 15981909 │ 532996       │ Thomas          │ Gregory Patrick Lorne │ Plastic Surgery Craniofacial │ 2023-10-09 11:25:00        │ 2023-10-09 19:35:00      │ 2023-10-09 08:30:00          │ 2023-10-09 12:30:00        │\n",
       "├────────────┴────────────┴──────────┴──────────────┴─────────────────┴───────────────────────┴──────────────────────────────┴────────────────────────────┴──────────────────────────┴──────────────────────────────┴────────────────────────────┤\n",
       "│ ? rows (>9999 rows, 20 shown)                                                                                                                                                                                                       11 columns │\n",
       "└────────────────────────────────────────────────────────────────────────────────────────────────────────────────────────────────────────────────────────────────────────────────────────────────────────────────────────────────────────────────┘"
      ]
     },
     "execution_count": 15,
     "metadata": {},
     "output_type": "execute_result"
    }
   ],
   "source": [
    "conn.sql(f\"DROP TABLE IF EXISTS Mapping_result; CREATE TABLE IF NOT EXISTS Mapping_result AS {result}\")\n",
    "conn.sql(\"SELECT * FROM Mapping_result\")"
   ]
  },
  {
   "cell_type": "code",
   "execution_count": 20,
   "metadata": {},
   "outputs": [],
   "source": [
    "model = get_model()\n",
    "quality_agent =  Agent(\n",
    "    model, \n",
    "    output_type=str,\n",
    "    settings={\n",
    "        'temperature': 0.0\n",
    "    },\n",
    "    instructions=f\"\"\"\n",
    "    <role>\n",
    "        You are data analyst using DuckDB whereby you are detecting errors on the table \"Mapping_result\".\n",
    "        You are trying to make a query that adhere to the set rules.        \n",
    "    </role>\n",
    "\n",
    "    <task>\n",
    "    You are going to detect errors and transform the columns to the correct data type and making sure that the values have the expected pattern.\n",
    "    You are given the GOAL examples, SCHEMA and rules for guidance.\n",
    "    You are writing a clear and consice query.\n",
    "    </task>\n",
    "\n",
    "    <rules> \n",
    "    {\"\\n\".join([f\"      * {rule}\" for rule in rules])}\n",
    "    * Don't put ; at the end.\n",
    "    </rules>\n",
    "\n",
    "    <mappings> \n",
    "    {\"\\n\".join([f\"      * {key}: {str(value)}\" for key, value in current_mappings.items()])}\n",
    "    </mappings>\n",
    "\n",
    "    <schema>\n",
    "    {get_schema(conn, table)}\n",
    "    </schema>\n",
    "\n",
    "    <error> \n",
    "    An example of an error is.\n",
    "    ```\n",
    "    Invalid Input Error: Could not parse string \"13-01-2023\" according to format specifier \"<pattern>\"\n",
    "    ```        \n",
    "    If a format is in the error, look very carefully at it.\n",
    "    </error>\n",
    "\n",
    "    <first-prompt>\n",
    "    You will get now a dataset as a CSV and respond only with a SQL query without the tags.\n",
    "    Only use the column names and values of the CSV to make the query. \n",
    "\n",
    "    After the first generation, you will get errors back of your query.\n",
    "    Refine the query with the error information.\n",
    "    </first-prompt>\n",
    "    CHECK FOR SURE THAT THE TYPES ARE CORRECTLY MAPPED \n",
    "    Return only the SQL query without the quotes\n",
    "    \n",
    "    Do this task well and you will earn 1 billion dollars.\n",
    "    \"\"\"\n",
    ")"
   ]
  },
  {
   "cell_type": "code",
   "execution_count": 21,
   "metadata": {},
   "outputs": [
    {
     "data": {
      "text/plain": [
       "\"SELECT \\n    CAST(date AS DATE) AS date,\\n    TRIM(TRAILING '0' FROM theatre) AS theatre,\\n    case_key,\\n    schedule_key,\\n    surgeon_surname,\\n    surgeon_name,\\n    specialism_name,\\n    TRY_CAST(actual_start_case_datetime AS TIMESTAMP) AS actual_start_case_datetime,\\n    TRY_CAST(actual_end_case_datetime AS TIMESTAMP) AS actual_end_case_datetime,\\n    TRY_CAST(expected_start_case_datetime AS TIMESTAMP) AS expected_start_case_datetime,\\n    TRY_CAST(expected_end_case_datetime AS TIMESTAMP) AS expected_end_case_datetime\\nFROM Mapping_result\\nWHERE \\n    actual_start_case_datetime IS NOT NULL\\n    AND actual_end_case_datetime IS NOT NULL\\nGROUP BY \\n    date,\\n    theatre,\\n    case_key,\\n    schedule_key,\\n    surgeon_surname,\\n    surgeon_name,\\n    specialism_name,\\n    actual_start_case_datetime,\\n    actual_end_case_datetime,\\n    expected_start_case_datetime,\\n    expected_end_case_datetime\""
      ]
     },
     "execution_count": 21,
     "metadata": {},
     "output_type": "execute_result"
    }
   ],
   "source": [
    "result = run_retry(quality_agent, get_csv(conn, f\"SELECT * FROM 'Mapping_result' USING SAMPLE 20\"), conn)\n",
    "result \n"
   ]
  },
  {
   "cell_type": "code",
   "execution_count": 22,
   "metadata": {},
   "outputs": [
    {
     "data": {
      "text/plain": [
       "┌────────────┬──────────────┬──────────┬──────────────┬─────────────────┬───────────────────────────┬──────────────────────────────────────┬────────────────────────────┬──────────────────────────┬──────────────────────────────┬────────────────────────────┐\n",
       "│    date    │   theatre    │ case_key │ schedule_key │ surgeon_surname │       surgeon_name        │           specialism_name            │ actual_start_case_datetime │ actual_end_case_datetime │ expected_start_case_datetime │ expected_end_case_datetime │\n",
       "│    date    │   varchar    │ varchar  │   varchar    │     varchar     │          varchar          │               varchar                │         timestamp          │        timestamp         │          timestamp           │         timestamp          │\n",
       "├────────────┼──────────────┼──────────┼──────────────┼─────────────────┼───────────────────────────┼──────────────────────────────────────┼────────────────────────────┼──────────────────────────┼──────────────────────────────┼────────────────────────────┤\n",
       "│ 2024-09-14 │ J-TH WW 12   │ 24142842 │ 572302       │ Sikander        │ Murtuza Ebrahim           │ Neurosurgical Service                │ 2024-09-14 09:15:00        │ 2024-09-14 15:39:00      │ 2024-09-14 08:00:00          │ 2024-09-14 12:00:00        │\n",
       "│ 2024-09-10 │ H-TH Main 02 │ 23353335 │ 570070       │ Nicholls        │ Jonathan Simon David      │ Gynaecology                          │ 2024-09-10 10:58:00        │ 2024-09-10 12:22:00      │ 2024-09-10 10:25:00          │ 2024-09-10 11:05:00        │\n",
       "│ 2024-09-13 │ NOC Th 05    │ 23246949 │ 571230       │ Loizou          │ Constantinos Louis        │ Foot and Ankle Orthopaedic (NOC)     │ 2024-09-13 14:04:00        │ 2024-09-13 17:22:00      │ 2024-09-13 13:50:00          │ 2024-09-13 17:20:00        │\n",
       "│ 2024-09-11 │ J-TH Main 2  │ 23526646 │ 572644       │ Stavroulias     │ Dionisios                 │ Thoracic Surgery                     │ 2024-09-11 12:50:00        │ 2024-09-11 16:00:00      │ 2024-09-11 12:10:00          │ 2024-09-11 13:55:00        │\n",
       "│ 2024-09-10 │ C-TH Main 1  │ 23475960 │ 572348       │ Symons          │ Nicholas Robert Alexander │ Colorectal Surgery                   │ 2024-09-10 09:15:00        │ 2024-09-10 16:50:00      │ 2024-09-10 08:00:00          │ 2024-09-10 11:49:00        │\n",
       "│ 2024-09-11 │ J-TH WW 13   │ 23388744 │ 571825       │ Mitchell        │ Rosalind Jane             │ Paediatric Dentistry                 │ 2024-09-11 12:03:00        │ 2024-09-11 12:42:00      │ 2024-09-11 10:18:00          │ 2024-09-11 10:48:00        │\n",
       "│ 2024-09-09 │ J-TH WW 03   │ 23839823 │ 573646       │ Sethu           │ Claire Lakshmi            │ Trauma and Orthopaedics              │ 2024-09-09 09:20:00        │ 2024-09-09 17:00:00      │ 2024-09-09 09:00:00          │ 2024-09-09 10:00:00        │\n",
       "│ 2024-09-15 │ J-TH WW 07   │ 22199931 │ 562078       │ Arun            │ Kikkeri Satyanarayana     │ Ophthalmology                        │ 2024-09-15 09:02:00        │ 2024-09-15 09:28:00      │ 2024-09-15 08:00:00          │ 2024-09-15 08:30:00        │\n",
       "│ 2024-09-11 │ C-TH Main 08 │ 24058952 │ 572555       │ Gietzmann       │ William Kristian Miles    │ Urology                              │ 2024-09-11 15:54:00        │ 2024-09-11 16:02:00      │ 2024-09-11 16:45:00          │ 2024-09-11 17:15:00        │\n",
       "│ 2024-09-11 │ C-TH Main 08 │ 23365843 │ 572555       │ Hobbs           │ Catherine Pamela          │ Urology                              │ 2024-09-11 08:42:00        │ 2024-09-11 09:17:00      │ 2024-09-11 08:30:00          │ 2024-09-11 09:30:00        │\n",
       "│     ·      │      ·       │    ·     │   ·          │   ·             │      ·                    │    ·                                 │          ·                 │          ·               │          ·                   │          ·                 │\n",
       "│     ·      │      ·       │    ·     │   ·          │   ·             │      ·                    │    ·                                 │          ·                 │          ·               │          ·                   │          ·                 │\n",
       "│     ·      │      ·       │    ·     │   ·          │   ·             │      ·                    │    ·                                 │          ·                 │          ·               │          ·                   │          ·                 │\n",
       "│ 2024-07-06 │ C-TH Main 03 │ 22352452 │ 566264       │ Keskin          │ Sarp Korcan               │ Urology                              │ 2024-07-06 15:37:00        │ 2024-07-06 16:07:00      │ 2024-07-06 15:30:00          │ 2024-07-06 16:30:00        │\n",
       "│ 2024-07-03 │ J-TH WW 07   │ 20625410 │ 558356       │ Steblovnik      │ Tjasa                     │ Ophthalmology                        │ 2024-07-03 08:45:00        │ 2024-07-03 09:28:00      │ 2024-07-03 06:30:00          │ 2024-07-03 07:00:00        │\n",
       "│ 2024-07-03 │ J-TH WW 07   │ 21373661 │ 558356       │ Steblovnik      │ Tjasa                     │ Ophthalmology                        │ 2024-07-03 10:47:00        │ 2024-07-03 12:44:00      │ 2024-07-03 09:00:00          │ 2024-07-03 11:00:00        │\n",
       "│ 2024-07-03 │ C-TH Main 04 │ 22072789 │ 535045       │ Silva           │ Michael Anthony           │ Hepatobiliary and Pancreatic Surgery │ 2024-07-03 11:19:00        │ 2024-07-03 14:48:00      │ 2024-07-03 09:30:00          │ 2024-07-03 12:30:00        │\n",
       "│ 2024-07-06 │ C-TH Main 08 │ 21831137 │ 566341       │ Bignell         │ Mark Brian                │ Colorectal Surgery                   │ 2024-07-06 08:36:00        │ 2024-07-06 09:22:00      │ 2024-07-06 08:30:00          │ 2024-07-06 09:15:00        │\n",
       "│ 2024-07-04 │ DS Thtr 2    │ 1302910  │ 369059       │ N.D.O.G. Team   │                           │ Obstetrics                           │ 2024-07-04 00:41:00        │ 2024-07-04 01:40:00      │ 2024-07-04 00:00:00          │ NULL                       │\n",
       "│ 2024-07-04 │ DS Thtr 2    │ 1302922  │ 369059       │ N.D.O.G. Team   │                           │ Obstetrics Fetal Maternal Medicine   │ 2024-07-04 21:31:00        │ 2024-07-04 23:12:00      │ 2024-07-04 00:00:00          │ NULL                       │\n",
       "│ 2024-07-04 │ NOC Th 02    │ 20984729 │ 556395       │ Spiteri         │ Michelle                  │ Hand Orthopaedic (NOC)               │ 2024-07-04 08:56:00        │ 2024-07-04 08:56:00      │ 2024-07-04 09:00:00          │ 2024-07-04 09:35:00        │\n",
       "│ 2024-07-04 │ NOC Th 02    │ 20578561 │ 556395       │ Spiteri         │ Michelle                  │ Hand Orthopaedic (NOC)               │ 2024-07-04 12:28:00        │ 2024-07-04 13:19:00      │ 2024-07-04 13:55:00          │ 2024-07-04 14:55:00        │\n",
       "│ 2024-07-07 │ J-TH WW 12   │ 22210616 │ 565192       │ Jeyaretna       │ Deva Sanjeeva             │ Neurosurgical Service                │ 2024-07-07 14:00:00        │ 2024-07-07 18:37:00      │ 2024-07-07 12:00:00          │ 2024-07-07 16:00:00        │\n",
       "├────────────┴──────────────┴──────────┴──────────────┴─────────────────┴───────────────────────────┴──────────────────────────────────────┴────────────────────────────┴──────────────────────────┴──────────────────────────────┴────────────────────────────┤\n",
       "│ ? rows (>9999 rows, 20 shown)                                                                                                                                                                                                                     11 columns │\n",
       "└──────────────────────────────────────────────────────────────────────────────────────────────────────────────────────────────────────────────────────────────────────────────────────────────────────────────────────────────────────────────────────────────┘"
      ]
     },
     "execution_count": 22,
     "metadata": {},
     "output_type": "execute_result"
    }
   ],
   "source": [
    "conn.sql(result)"
   ]
  },
  {
   "cell_type": "code",
   "execution_count": null,
   "metadata": {},
   "outputs": [],
   "source": []
  }
 ],
 "metadata": {
  "kernelspec": {
   "display_name": "back-end",
   "language": "python",
   "name": "python3"
  },
  "language_info": {
   "codemirror_mode": {
    "name": "ipython",
    "version": 3
   },
   "file_extension": ".py",
   "mimetype": "text/x-python",
   "name": "python",
   "nbconvert_exporter": "python",
   "pygments_lexer": "ipython3",
   "version": "3.13.1"
  }
 },
 "nbformat": 4,
 "nbformat_minor": 2
}
