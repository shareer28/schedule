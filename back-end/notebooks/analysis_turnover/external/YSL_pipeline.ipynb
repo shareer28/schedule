{
 "cells": [
  {
   "cell_type": "code",
   "execution_count": 1,
   "metadata": {},
   "outputs": [
    {
     "name": "stdout",
     "output_type": "stream",
     "text": [
      "zsh:1: /Users/coen/Documents/dev/dashboard-analysis/.venv/bin/pip: bad interpreter: /Users/coen/Documents/dev/.venv/bin/python3.13: no such file or directory\n",
      "zsh:1: /Users/coen/Documents/dev/dashboard-analysis/.venv/bin/pip: bad interpreter: /Users/coen/Documents/dev/.venv/bin/python3.13: no such file or directory\n",
      "zsh:1: /Users/coen/Documents/dev/dashboard-analysis/.venv/bin/pip: bad interpreter: /Users/coen/Documents/dev/.venv/bin/python3.13: no such file or directory\n",
      "zsh:1: /Users/coen/Documents/dev/dashboard-analysis/.venv/bin/pip: bad interpreter: /Users/coen/Documents/dev/.venv/bin/python3.13: no such file or directory\n",
      "zsh:1: /Users/coen/Documents/dev/dashboard-analysis/.venv/bin/pip: bad interpreter: /Users/coen/Documents/dev/.venv/bin/python3.13: no such file or directory\n"
     ]
    }
   ],
   "source": [
    "! pip install duckdb\n",
    "! pip install pandas\n",
    "! pip install seaborn\n",
    "! pip install matplotlib\n",
    "! pip install jupysql pandas matplotlib duckdb-engine"
   ]
  },
  {
   "cell_type": "code",
   "execution_count": 2,
   "metadata": {},
   "outputs": [
    {
     "data": {
      "text/html": [
       "<span style=\"None\">Running query in &#x27;duckdb&#x27;</span>"
      ],
      "text/plain": [
       "Running query in 'duckdb'"
      ]
     },
     "metadata": {},
     "output_type": "display_data"
    },
    {
     "data": {
      "text/html": [
       "<span style=\"None\">Running query in &#x27;duckdb&#x27;</span>"
      ],
      "text/plain": [
       "Running query in 'duckdb'"
      ]
     },
     "metadata": {},
     "output_type": "display_data"
    },
    {
     "data": {
      "text/html": [
       "<span style=\"None\">displaylimit: Value None will be treated as 0 (no limit)</span>"
      ],
      "text/plain": [
       "displaylimit: Value None will be treated as 0 (no limit)"
      ]
     },
     "metadata": {},
     "output_type": "display_data"
    }
   ],
   "source": [
    "import duckdb\n",
    "\n",
    "%load_ext sql\n",
    "conn = duckdb.connect()\n",
    "%sql conn --alias duckdb\n",
    "%sql INSTALL spatial; LOAD spatial;\n",
    "%sql INSTALL excel; LOAD excel;\n",
    "%config SqlMagic.displaylimit = None"
   ]
  },
  {
   "cell_type": "code",
   "execution_count": 3,
   "metadata": {},
   "outputs": [
    {
     "data": {
      "text/html": [
       "<span style=\"None\">Running query in &#x27;duckdb&#x27;</span>"
      ],
      "text/plain": [
       "Running query in 'duckdb'"
      ]
     },
     "metadata": {},
     "output_type": "display_data"
    },
    {
     "data": {
      "text/html": [
       "<table>\n",
       "    <thead>\n",
       "        <tr>\n",
       "            <th>Count</th>\n",
       "        </tr>\n",
       "    </thead>\n",
       "    <tbody>\n",
       "        <tr>\n",
       "            <td>8137</td>\n",
       "        </tr>\n",
       "    </tbody>\n",
       "</table>"
      ],
      "text/plain": [
       "+-------+\n",
       "| Count |\n",
       "+-------+\n",
       "|  8137 |\n",
       "+-------+"
      ]
     },
     "execution_count": 3,
     "metadata": {},
     "output_type": "execute_result"
    }
   ],
   "source": [
    "%%sql\n",
    "DROP TABLE IF EXISTS YSL_data;\n",
    "CREATE TABLE IF NOT EXISTS YSL_data AS\n",
    "SELECT *\n",
    "FROM st_read('../YSL data- Reinier Feitz.xlsx', layer='2023 all')\n"
   ]
  },
  {
   "cell_type": "code",
   "execution_count": 4,
   "metadata": {},
   "outputs": [],
   "source": [
    "df = conn.sql(\"\"\"\n",
    "WITH YSL_data_OK_date AS (\n",
    "    SELECT \n",
    "        * EXCLUDE (\"OK dat\", \"Op OK\", \"Uit OK\"),\n",
    "        CAST(COALESCE(try_strptime(\"OK dat\", '%Y/%d/%m'), strptime(\"OK dat\", '%d-%m-%Y')) AS Date) AS date,\n",
    "        \"OK dat\" AS old_date,\n",
    "         epoch_ms(epoch_ms(\"Op OK\") + epoch_ms(date)) AS actual_start_case_datetime,\n",
    "         epoch_ms(epoch_ms(\"Uit OK\") + epoch_ms(date)) AS actual_end_case_datetime\n",
    "    FROM YSL_data\n",
    "),\n",
    "YLS_data_P_replace AS (\n",
    "    SELECT * \n",
    "        REPLACE (upper(split_part(\"Verr. code\", '.', 1)) AS \"Verr. code\")\n",
    "    FROM YSL_data_OK_date\n",
    "),\n",
    "YSL_data_theatre_consistent AS (\n",
    "    SELECT * EXCLUDE(OK), IF(contains(OK, '.'), split_part(OK, '.', 1), OK) AS theatre\n",
    "    FROM YLS_data_P_replace\n",
    ")\n",
    "SELECT *, date FROM YSL_data_theatre_consistent\n",
    "              WHERE P = 'E'\n",
    "ORDER BY theatre, actual_start_case_datetime\n",
    "\"\"\").to_df()"
   ]
  },
  {
   "cell_type": "code",
   "execution_count": 5,
   "metadata": {
    "vscode": {
     "languageId": "sql"
    }
   },
   "outputs": [
    {
     "data": {
      "text/html": [
       "<span style=\"None\">Running query in &#x27;duckdb&#x27;</span>"
      ],
      "text/plain": [
       "Running query in 'duckdb'"
      ]
     },
     "metadata": {},
     "output_type": "display_data"
    },
    {
     "data": {
      "text/html": [
       "<table>\n",
       "    <thead>\n",
       "        <tr>\n",
       "            <th>Count</th>\n",
       "        </tr>\n",
       "    </thead>\n",
       "    <tbody>\n",
       "        <tr>\n",
       "            <td>1398</td>\n",
       "        </tr>\n",
       "    </tbody>\n",
       "</table>"
      ],
      "text/plain": [
       "+-------+\n",
       "| Count |\n",
       "+-------+\n",
       "|  1398 |\n",
       "+-------+"
      ]
     },
     "execution_count": 5,
     "metadata": {},
     "output_type": "execute_result"
    }
   ],
   "source": [
    "%%sql\n",
    "DROP TABLE IF EXISTS YSL_data_protocol;\n",
    "CREATE TABLE IF NOT EXISTS YSL_data_protocol AS\n",
    "WITH YSL_data AS (\n",
    "    SELECT * FROM read_csv('../P_IJsselland_Codes.csv')\n",
    "),\n",
    "YSL_data_codes_unnest AS (\n",
    "    SELECT codes.split(',').unnest() AS protocol_code, \n",
    "        * EXCLUDE codes\n",
    "    FROM YSL_data\n",
    "),\n",
    "YSL_data_distinct_protocols AS (\n",
    "    SELECT DISTINCT \n",
    "        OrganizationName AS organization_name \n",
    "        ,organization_id\n",
    "        ,procedure_id\n",
    "        ,procedure_name\n",
    "        , protocol_id\n",
    "        -- ,protocol_name\n",
    "        ,protocol_code\n",
    "    FROM YSL_data_codes_unnest\n",
    ")\n",
    "SELECT *\n",
    "FROM YSL_data_distinct_protocols\n",
    "QUALIFY row_number() over (partition by protocol_code order by protocol_id) = 1"
   ]
  },
  {
   "cell_type": "code",
   "execution_count": 6,
   "metadata": {
    "vscode": {
     "languageId": "sql"
    }
   },
   "outputs": [
    {
     "data": {
      "text/html": [
       "<span style=\"None\">Running query in &#x27;duckdb&#x27;</span>"
      ],
      "text/plain": [
       "Running query in 'duckdb'"
      ]
     },
     "metadata": {},
     "output_type": "display_data"
    },
    {
     "data": {
      "text/html": [
       "<table>\n",
       "    <thead>\n",
       "        <tr>\n",
       "            <th>Count</th>\n",
       "        </tr>\n",
       "    </thead>\n",
       "    <tbody>\n",
       "        <tr>\n",
       "            <td>7241</td>\n",
       "        </tr>\n",
       "    </tbody>\n",
       "</table>"
      ],
      "text/plain": [
       "+-------+\n",
       "| Count |\n",
       "+-------+\n",
       "|  7241 |\n",
       "+-------+"
      ]
     },
     "execution_count": 6,
     "metadata": {},
     "output_type": "execute_result"
    }
   ],
   "source": [
    "%%sql \n",
    "DROP TABLE IF EXISTS YSL_parsed_data;\n",
    "CREATE TABLE YSL_parsed_data AS\n",
    "WITH YSL_data_OK_date AS (\n",
    "    SELECT \n",
    "        * EXCLUDE (\"OK dat\", \"Op OK\", \"Uit OK\"),\n",
    "        CAST(COALESCE(try_strptime(\"OK dat\", '%Y/%d/%m'), strptime(\"OK dat\", '%d-%m-%Y')) AS Date) AS date,\n",
    "         epoch_ms(epoch_ms(\"Op OK\") + epoch_ms(date)) AS actual_start_case_datetime,\n",
    "         epoch_ms(epoch_ms(\"Uit OK\") + epoch_ms(date)) AS actual_end_case_datetime\n",
    "    FROM YSL_data\n",
    "),\n",
    "YLS_data_P_replace AS (\n",
    "    SELECT * \n",
    "        REPLACE(upper(split_part(\"Verr. code\", '.', 1)) AS \"Verr. code\")\n",
    "    FROM YSL_data_OK_date\n",
    "),\n",
    "YSL_data_theatre_consistent AS (\n",
    "    SELECT * EXCLUDE(OK), IF(contains(OK, '.'), split_part(OK, '.', 1), OK) AS theatre\n",
    "    FROM YLS_data_P_replace\n",
    "),\n",
    "YSL_data_completeness_OK AS (\n",
    "    SELECT *\n",
    "    FROM YSL_data_theatre_consistent\n",
    "    WHERE theatre IS NOT NULL\n",
    "),\n",
    "YSL_data_filter_only_electives AS (\n",
    "    SELECT *\n",
    "    FROM YSL_data_completeness_OK\n",
    "    WHERE P = 'E'\n",
    "),\n",
    "YSL_data_turnover AS (\n",
    "    SELECT *\n",
    "        , row_number() OVER (PARTITION BY theatre, date ORDER BY actual_end_case_datetime) AS actual_day_sequence_number\n",
    "        , lag(actual_end_case_datetime) OVER (PARTITION BY theatre, date ORDER BY actual_end_case_datetime) AS actual_previous_end_case_datetime\n",
    "    FROM YSL_data_filter_only_electives\n",
    "),\n",
    "YSL_data_surgeon AS (\n",
    "    SELECT * EXCLUDE (\"Snijder\")\n",
    "        , split(\"Snijder\", ',')[2] AS surgeon_name\n",
    "        , split(\"Snijder\", ',')[1] AS surgeon_surname\n",
    "        ,\"Verr. code\" AS protocol_code\n",
    "    FROM YSL_data_turnover\n",
    "),\n",
    "YSL_data_protocol_join AS (\n",
    "    SELECT \n",
    "        YDS.* EXCLUDE (\"Verr. code\")\n",
    "        ,YDS.\"Spec.\" AS specialism_name\n",
    "        ,YDP.procedure_id\n",
    "        ,YDP.procedure_name\n",
    "        -- ,YDP.protocol_id\n",
    "        -- ,YDP.protocol_name\n",
    "        ,IFNULL(YDP.organization_name, 'IJsselland Ziekenhuis') AS organization_name\n",
    "        ,IFNULL(YDP.organization_id, 'cc213081-6d8b-4149-89e0-8099d678b243') AS organization_id\n",
    "    FROM YSL_data_surgeon YDS\n",
    "    LEFT OUTER JOIN YSL_data_protocol YDP ON YDS.protocol_code = UPPER(YDP.protocol_code)\n",
    "),\n",
    "YSL_data_exclude_nonrelevant_columns AS (\n",
    "    SELECT * EXCLUDE (\n",
    "        Dag,\n",
    "        Month,\n",
    "        P,\n",
    "        Complex,\n",
    "        \"n. Afd\",\n",
    "        Minutes,\n",
    "        \"Hoofd/neven1\",\n",
    "        Lok,\n",
    "        \"Spec.\"\n",
    "    )\n",
    "    FROM YSL_data_protocol_join\n",
    "),\n",
    "YSL_data_format AS (\n",
    "    SELECT \n",
    "        organization_id\n",
    "        ,organization_name\n",
    "        ,theatre\n",
    "        ,actual_day_sequence_number\n",
    "        ,NULL AS expected_day_sequence_number\n",
    "        ,surgeon_surname\n",
    "        ,surgeon_name\n",
    "        ,specialism_name\n",
    "        ,procedure_id\n",
    "        ,procedure_name\n",
    "        ,try_cast(NULL AS nvarchar) AS protocol_id\n",
    "        ,protocol_code\n",
    "        ,try_cast(NULL AS nvarchar) AS protocol_name\n",
    "        ,date\n",
    "        ,actual_start_case_datetime\n",
    "        ,try_cast(NULL AS timestamp) AS expected_start_case_datetime\n",
    "        ,actual_end_case_datetime\n",
    "        ,try_cast(NULL AS timestamp) AS expected_end_case_datetime\n",
    "        ,actual_previous_end_case_datetime\n",
    "        ,try_cast(NULL AS timestamp) AS expected_previous_end_case_datetime\n",
    "        ,actual_start_case_datetime - actual_previous_end_case_datetime AS actual_turnovertime \n",
    "        ,try_cast(NULL AS interval) AS expected_turnovertime\n",
    "        ,minute(actual_turnovertime) + 60 * hour(actual_turnovertime) AS actual_turnovertime_minutes\n",
    "        ,minute(expected_turnovertime) + 60 * hour(expected_turnovertime) AS expected_turnovertime_minutes\n",
    "    FROM YSL_data_exclude_nonrelevant_columns\n",
    ")\n",
    "SELECT *\n",
    "FROM YSL_data_format\n"
   ]
  },
  {
   "cell_type": "code",
   "execution_count": 8,
   "metadata": {
    "vscode": {
     "languageId": "sql"
    }
   },
   "outputs": [
    {
     "data": {
      "text/html": [
       "<span style=\"None\">Running query in &#x27;duckdb&#x27;</span>"
      ],
      "text/plain": [
       "Running query in 'duckdb'"
      ]
     },
     "metadata": {},
     "output_type": "display_data"
    },
    {
     "data": {
      "text/html": [
       "<table>\n",
       "    <thead>\n",
       "        <tr>\n",
       "            <th>column_name</th>\n",
       "            <th>column_type</th>\n",
       "            <th>null</th>\n",
       "            <th>key</th>\n",
       "            <th>default</th>\n",
       "            <th>extra</th>\n",
       "        </tr>\n",
       "    </thead>\n",
       "    <tbody>\n",
       "        <tr>\n",
       "            <td>organization_id</td>\n",
       "            <td>VARCHAR</td>\n",
       "            <td>YES</td>\n",
       "            <td>None</td>\n",
       "            <td>None</td>\n",
       "            <td>None</td>\n",
       "        </tr>\n",
       "        <tr>\n",
       "            <td>organization_name</td>\n",
       "            <td>VARCHAR</td>\n",
       "            <td>YES</td>\n",
       "            <td>None</td>\n",
       "            <td>None</td>\n",
       "            <td>None</td>\n",
       "        </tr>\n",
       "        <tr>\n",
       "            <td>theatre</td>\n",
       "            <td>VARCHAR</td>\n",
       "            <td>YES</td>\n",
       "            <td>None</td>\n",
       "            <td>None</td>\n",
       "            <td>None</td>\n",
       "        </tr>\n",
       "        <tr>\n",
       "            <td>actual_day_sequence_number</td>\n",
       "            <td>BIGINT</td>\n",
       "            <td>YES</td>\n",
       "            <td>None</td>\n",
       "            <td>None</td>\n",
       "            <td>None</td>\n",
       "        </tr>\n",
       "        <tr>\n",
       "            <td>expected_day_sequence_number</td>\n",
       "            <td>INTEGER</td>\n",
       "            <td>YES</td>\n",
       "            <td>None</td>\n",
       "            <td>None</td>\n",
       "            <td>None</td>\n",
       "        </tr>\n",
       "        <tr>\n",
       "            <td>surgeon_surname</td>\n",
       "            <td>VARCHAR</td>\n",
       "            <td>YES</td>\n",
       "            <td>None</td>\n",
       "            <td>None</td>\n",
       "            <td>None</td>\n",
       "        </tr>\n",
       "        <tr>\n",
       "            <td>surgeon_name</td>\n",
       "            <td>VARCHAR</td>\n",
       "            <td>YES</td>\n",
       "            <td>None</td>\n",
       "            <td>None</td>\n",
       "            <td>None</td>\n",
       "        </tr>\n",
       "        <tr>\n",
       "            <td>specialism_name</td>\n",
       "            <td>VARCHAR</td>\n",
       "            <td>YES</td>\n",
       "            <td>None</td>\n",
       "            <td>None</td>\n",
       "            <td>None</td>\n",
       "        </tr>\n",
       "        <tr>\n",
       "            <td>procedure_id</td>\n",
       "            <td>BIGINT</td>\n",
       "            <td>YES</td>\n",
       "            <td>None</td>\n",
       "            <td>None</td>\n",
       "            <td>None</td>\n",
       "        </tr>\n",
       "        <tr>\n",
       "            <td>procedure_name</td>\n",
       "            <td>VARCHAR</td>\n",
       "            <td>YES</td>\n",
       "            <td>None</td>\n",
       "            <td>None</td>\n",
       "            <td>None</td>\n",
       "        </tr>\n",
       "        <tr>\n",
       "            <td>protocol_id</td>\n",
       "            <td>VARCHAR</td>\n",
       "            <td>YES</td>\n",
       "            <td>None</td>\n",
       "            <td>None</td>\n",
       "            <td>None</td>\n",
       "        </tr>\n",
       "        <tr>\n",
       "            <td>protocol_code</td>\n",
       "            <td>VARCHAR</td>\n",
       "            <td>YES</td>\n",
       "            <td>None</td>\n",
       "            <td>None</td>\n",
       "            <td>None</td>\n",
       "        </tr>\n",
       "        <tr>\n",
       "            <td>protocol_name</td>\n",
       "            <td>VARCHAR</td>\n",
       "            <td>YES</td>\n",
       "            <td>None</td>\n",
       "            <td>None</td>\n",
       "            <td>None</td>\n",
       "        </tr>\n",
       "        <tr>\n",
       "            <td>date</td>\n",
       "            <td>DATE</td>\n",
       "            <td>YES</td>\n",
       "            <td>None</td>\n",
       "            <td>None</td>\n",
       "            <td>None</td>\n",
       "        </tr>\n",
       "        <tr>\n",
       "            <td>actual_start_case_datetime</td>\n",
       "            <td>TIMESTAMP</td>\n",
       "            <td>YES</td>\n",
       "            <td>None</td>\n",
       "            <td>None</td>\n",
       "            <td>None</td>\n",
       "        </tr>\n",
       "        <tr>\n",
       "            <td>expected_start_case_datetime</td>\n",
       "            <td>TIMESTAMP</td>\n",
       "            <td>YES</td>\n",
       "            <td>None</td>\n",
       "            <td>None</td>\n",
       "            <td>None</td>\n",
       "        </tr>\n",
       "        <tr>\n",
       "            <td>actual_end_case_datetime</td>\n",
       "            <td>TIMESTAMP</td>\n",
       "            <td>YES</td>\n",
       "            <td>None</td>\n",
       "            <td>None</td>\n",
       "            <td>None</td>\n",
       "        </tr>\n",
       "        <tr>\n",
       "            <td>expected_end_case_datetime</td>\n",
       "            <td>TIMESTAMP</td>\n",
       "            <td>YES</td>\n",
       "            <td>None</td>\n",
       "            <td>None</td>\n",
       "            <td>None</td>\n",
       "        </tr>\n",
       "        <tr>\n",
       "            <td>actual_previous_end_case_datetime</td>\n",
       "            <td>TIMESTAMP</td>\n",
       "            <td>YES</td>\n",
       "            <td>None</td>\n",
       "            <td>None</td>\n",
       "            <td>None</td>\n",
       "        </tr>\n",
       "        <tr>\n",
       "            <td>expected_previous_end_case_datetime</td>\n",
       "            <td>TIMESTAMP</td>\n",
       "            <td>YES</td>\n",
       "            <td>None</td>\n",
       "            <td>None</td>\n",
       "            <td>None</td>\n",
       "        </tr>\n",
       "        <tr>\n",
       "            <td>actual_turnovertime</td>\n",
       "            <td>INTERVAL</td>\n",
       "            <td>YES</td>\n",
       "            <td>None</td>\n",
       "            <td>None</td>\n",
       "            <td>None</td>\n",
       "        </tr>\n",
       "        <tr>\n",
       "            <td>expected_turnovertime</td>\n",
       "            <td>INTERVAL</td>\n",
       "            <td>YES</td>\n",
       "            <td>None</td>\n",
       "            <td>None</td>\n",
       "            <td>None</td>\n",
       "        </tr>\n",
       "        <tr>\n",
       "            <td>actual_turnovertime_minutes</td>\n",
       "            <td>BIGINT</td>\n",
       "            <td>YES</td>\n",
       "            <td>None</td>\n",
       "            <td>None</td>\n",
       "            <td>None</td>\n",
       "        </tr>\n",
       "        <tr>\n",
       "            <td>expected_turnovertime_minutes</td>\n",
       "            <td>BIGINT</td>\n",
       "            <td>YES</td>\n",
       "            <td>None</td>\n",
       "            <td>None</td>\n",
       "            <td>None</td>\n",
       "        </tr>\n",
       "    </tbody>\n",
       "</table>"
      ],
      "text/plain": [
       "+-------------------------------------+-------------+------+------+---------+-------+\n",
       "|             column_name             | column_type | null | key  | default | extra |\n",
       "+-------------------------------------+-------------+------+------+---------+-------+\n",
       "|           organization_id           |   VARCHAR   | YES  | None |   None  |  None |\n",
       "|          organization_name          |   VARCHAR   | YES  | None |   None  |  None |\n",
       "|               theatre               |   VARCHAR   | YES  | None |   None  |  None |\n",
       "|      actual_day_sequence_number     |    BIGINT   | YES  | None |   None  |  None |\n",
       "|     expected_day_sequence_number    |   INTEGER   | YES  | None |   None  |  None |\n",
       "|           surgeon_surname           |   VARCHAR   | YES  | None |   None  |  None |\n",
       "|             surgeon_name            |   VARCHAR   | YES  | None |   None  |  None |\n",
       "|           specialism_name           |   VARCHAR   | YES  | None |   None  |  None |\n",
       "|             procedure_id            |    BIGINT   | YES  | None |   None  |  None |\n",
       "|            procedure_name           |   VARCHAR   | YES  | None |   None  |  None |\n",
       "|             protocol_id             |   VARCHAR   | YES  | None |   None  |  None |\n",
       "|            protocol_code            |   VARCHAR   | YES  | None |   None  |  None |\n",
       "|            protocol_name            |   VARCHAR   | YES  | None |   None  |  None |\n",
       "|                 date                |     DATE    | YES  | None |   None  |  None |\n",
       "|      actual_start_case_datetime     |  TIMESTAMP  | YES  | None |   None  |  None |\n",
       "|     expected_start_case_datetime    |  TIMESTAMP  | YES  | None |   None  |  None |\n",
       "|       actual_end_case_datetime      |  TIMESTAMP  | YES  | None |   None  |  None |\n",
       "|      expected_end_case_datetime     |  TIMESTAMP  | YES  | None |   None  |  None |\n",
       "|  actual_previous_end_case_datetime  |  TIMESTAMP  | YES  | None |   None  |  None |\n",
       "| expected_previous_end_case_datetime |  TIMESTAMP  | YES  | None |   None  |  None |\n",
       "|         actual_turnovertime         |   INTERVAL  | YES  | None |   None  |  None |\n",
       "|        expected_turnovertime        |   INTERVAL  | YES  | None |   None  |  None |\n",
       "|     actual_turnovertime_minutes     |    BIGINT   | YES  | None |   None  |  None |\n",
       "|    expected_turnovertime_minutes    |    BIGINT   | YES  | None |   None  |  None |\n",
       "+-------------------------------------+-------------+------+------+---------+-------+"
      ]
     },
     "execution_count": 8,
     "metadata": {},
     "output_type": "execute_result"
    }
   ],
   "source": [
    "%%sql \n",
    "DESCRIBE YSL_parsed_data"
   ]
  },
  {
   "cell_type": "code",
   "execution_count": 31,
   "metadata": {},
   "outputs": [
    {
     "data": {
      "text/html": [
       "<span style=\"None\">Running query in &#x27;duckdb&#x27;</span>"
      ],
      "text/plain": [
       "Running query in 'duckdb'"
      ]
     },
     "metadata": {},
     "output_type": "display_data"
    },
    {
     "data": {
      "text/html": [
       "<table>\n",
       "    <thead>\n",
       "        <tr>\n",
       "            <th>Count</th>\n",
       "        </tr>\n",
       "    </thead>\n",
       "    <tbody>\n",
       "        <tr>\n",
       "            <td>7241</td>\n",
       "        </tr>\n",
       "    </tbody>\n",
       "</table>"
      ],
      "text/plain": [
       "+-------+\n",
       "| Count |\n",
       "+-------+\n",
       "|  7241 |\n",
       "+-------+"
      ]
     },
     "execution_count": 31,
     "metadata": {},
     "output_type": "execute_result"
    }
   ],
   "source": [
    "%%sql\n",
    "COPY YSL_parsed_data TO '../YSL_data_parsed.csv'"
   ]
  },
  {
   "cell_type": "code",
   "execution_count": 24,
   "metadata": {
    "vscode": {
     "languageId": "sql"
    }
   },
   "outputs": [
    {
     "data": {
      "text/html": [
       "<span style=\"None\">Running query in &#x27;duckdb&#x27;</span>"
      ],
      "text/plain": [
       "Running query in 'duckdb'"
      ]
     },
     "metadata": {},
     "output_type": "display_data"
    },
    {
     "data": {
      "text/html": [
       "<table>\n",
       "    <thead>\n",
       "        <tr>\n",
       "            <th>Count</th>\n",
       "        </tr>\n",
       "    </thead>\n",
       "    <tbody>\n",
       "        <tr>\n",
       "            <td>1718</td>\n",
       "        </tr>\n",
       "    </tbody>\n",
       "</table>"
      ],
      "text/plain": [
       "+-------+\n",
       "| Count |\n",
       "+-------+\n",
       "|  1718 |\n",
       "+-------+"
      ]
     },
     "execution_count": 24,
     "metadata": {},
     "output_type": "execute_result"
    }
   ],
   "source": [
    "%%sql\n",
    "DROP TABLE IF EXISTS YSL_parsed_efficiency_data;\n",
    "CREATE TABLE YSL_parsed_efficiency_data AS\n",
    "WITH YSL_data_expected_day AS (\n",
    "    SELECT \n",
    "        *, \n",
    "        CAST(date AS TIMESTAMP) + INTERVAL 8 HOUR AS expected_day_start,\n",
    "        CAST(date AS TIMESTAMP) + INTERVAL 16 HOUR AS expected_day_end \n",
    "    FROM YSL_parsed_data\n",
    "    WHERE actual_start_case_datetime IS NOT NULL\n",
    "),\n",
    "YSL_data_difference_day AS (\n",
    "    SELECT \n",
    "        *,\n",
    "        IF(\n",
    "            actual_start_case_datetime < expected_day_start, \n",
    "            expected_day_start - actual_start_case_datetime, \n",
    "            actual_start_case_datetime - expected_day_start\n",
    "        ) AS difference_day_start,\n",
    "        IF(\n",
    "            actual_end_case_datetime < expected_day_end, \n",
    "            expected_day_end - actual_end_case_datetime, \n",
    "            actual_end_case_datetime - expected_day_end\n",
    "        ) AS difference_day_end,\n",
    "        IF(\n",
    "            actual_start_case_datetime < expected_day_start, \n",
    "            'Before', \n",
    "            'After'\n",
    "        ) AS day_start_difference_type,\n",
    "        IF(\n",
    "            actual_end_case_datetime < expected_day_end, \n",
    "            'Before',\n",
    "            'After'\n",
    "        ) AS day_end_difference_type,\n",
    "        (expected_day_start < actual_start_case_datetime)::INT AS day_start_overtime_indicator,\n",
    "        (actual_start_case_datetime < expected_day_end AND expected_day_end < actual_end_case_datetime)::INT AS day_end_overtime_indicator\n",
    "    FROM YSL_data_expected_day\n",
    "),\n",
    "YSL_data_casetime AS (\n",
    "    SELECT *\n",
    "    , actual_end_case_datetime - actual_start_case_datetime AS case_duration\n",
    "    , hour(case_duration) * 60 + minute(case_duration) AS case_duration_minutes\n",
    "    FROM YSL_data_difference_day\n",
    "),\n",
    "YSL_data_min_day_start_day_end AS (\n",
    "    SELECT \n",
    "        theatre,\n",
    "        date,\n",
    "        first(day_start_difference_type ORDER BY actual_day_sequence_number ASC) AS day_start_timeline_type,\n",
    "        first(day_end_difference_type ORDER BY day_end_overtime_indicator DESC, difference_day_end ASC) AS day_end_timeline_type,\n",
    "        first(actual_start_case_datetime ORDER BY actual_day_sequence_number ASC) AS actual_day_start,\n",
    "        first(actual_end_case_datetime ORDER BY day_end_overtime_indicator DESC, difference_day_end ASC) AS actual_day_end,\n",
    "        first(expected_day_start) AS expected_day_start,\n",
    "        first(expected_day_end) AS expected_day_end,\n",
    "        first(specialism_name ORDER BY actual_day_sequence_number ASC) AS day_start_specialism,\n",
    "        first(specialism_name ORDER BY day_end_overtime_indicator DESC, difference_day_end ASC) AS day_end_specialism,\n",
    "        max(day_start_overtime_indicator) AS day_start_overtime_indicator,\n",
    "        max(day_end_overtime_indicator) AS day_end_overtime_indicator,\n",
    "        first(difference_day_start ORDER BY actual_day_sequence_number ASC) AS difference_day_start, \n",
    "        min(difference_day_end) AS difference_day_end,\n",
    "        sum(case_duration_minutes) AS total_case_duration_minutes,\n",
    "        sum(actual_turnovertime_minutes) AS total_turnovertime_minutes,\n",
    "        count(*) AS number_of_cases\n",
    "    FROM YSL_data_casetime\n",
    "    GROUP BY theatre, date\n",
    "),\n",
    "YSL_data_difference_minutes AS (\n",
    "    SELECT \n",
    "        *,\n",
    "        minute(difference_day_start) + hour(difference_day_start) * 60 AS difference_minutes_day_start,\n",
    "        minute(difference_day_end) + hour(difference_day_end) * 60 AS difference_minutes_day_end\n",
    "    FROM YSL_data_min_day_start_day_end\n",
    "),\n",
    "YSL_data_format AS (\n",
    "    SELECT \n",
    "        theatre,\n",
    "        date,\n",
    "        total_case_duration_minutes,\n",
    "        total_turnovertime_minutes,\n",
    "        number_of_cases,\n",
    "        actual_day_start,\n",
    "        expected_day_start,\n",
    "        actual_day_end,\n",
    "        expected_day_end,\n",
    "        day_start_timeline_type,\n",
    "        day_end_timeline_type,\n",
    "        day_start_specialism,\n",
    "        day_end_specialism,\n",
    "        day_start_overtime_indicator,\n",
    "        day_end_overtime_indicator,\n",
    "        difference_day_start,\n",
    "        difference_day_end,\n",
    "        difference_minutes_day_start,\n",
    "        difference_minutes_day_end\n",
    "    FROM\n",
    "        YSL_data_difference_minutes\n",
    ")\n",
    "SELECT *\n",
    "FROM YSL_data_format\n",
    "ORDER BY theatre DESC, date"
   ]
  },
  {
   "cell_type": "code",
   "execution_count": 22,
   "metadata": {
    "vscode": {
     "languageId": "sql"
    }
   },
   "outputs": [
    {
     "data": {
      "text/html": [
       "<span style=\"None\">Running query in &#x27;duckdb&#x27;</span>"
      ],
      "text/plain": [
       "Running query in 'duckdb'"
      ]
     },
     "metadata": {},
     "output_type": "display_data"
    },
    {
     "data": {
      "text/html": [
       "<table>\n",
       "    <thead>\n",
       "        <tr>\n",
       "            <th>theatre</th>\n",
       "            <th>date</th>\n",
       "            <th>total_case_duration_minutes</th>\n",
       "            <th>number_of_cases</th>\n",
       "            <th>actual_day_start</th>\n",
       "            <th>expected_day_start</th>\n",
       "            <th>actual_day_end</th>\n",
       "            <th>expected_day_end</th>\n",
       "            <th>day_start_timeline_type</th>\n",
       "            <th>day_end_timeline_type</th>\n",
       "            <th>day_start_specialism</th>\n",
       "            <th>day_end_specialism</th>\n",
       "            <th>day_start_overtime_indicator</th>\n",
       "            <th>day_end_overtime_indicator</th>\n",
       "            <th>difference_day_start</th>\n",
       "            <th>difference_day_end</th>\n",
       "            <th>difference_minutes_day_start</th>\n",
       "            <th>difference_minutes_day_end</th>\n",
       "        </tr>\n",
       "    </thead>\n",
       "    <tbody>\n",
       "        <tr>\n",
       "            <td>8</td>\n",
       "            <td>2023-01-25</td>\n",
       "            <td>244</td>\n",
       "            <td>4</td>\n",
       "            <td>2023-01-25 07:53:00</td>\n",
       "            <td>2023-01-25 08:00:00</td>\n",
       "            <td>2023-01-25 12:30:00</td>\n",
       "            <td>2023-01-25 16:00:00</td>\n",
       "            <td>Before</td>\n",
       "            <td>Before</td>\n",
       "            <td>KNO</td>\n",
       "            <td>KNO</td>\n",
       "            <td>1</td>\n",
       "            <td>0</td>\n",
       "            <td>0:07:00</td>\n",
       "            <td>3:30:00</td>\n",
       "            <td>7</td>\n",
       "            <td>210</td>\n",
       "        </tr>\n",
       "        <tr>\n",
       "            <td>8</td>\n",
       "            <td>2023-03-06</td>\n",
       "            <td>252</td>\n",
       "            <td>3</td>\n",
       "            <td>2023-03-06 07:59:00</td>\n",
       "            <td>2023-03-06 08:00:00</td>\n",
       "            <td>2023-03-06 15:00:00</td>\n",
       "            <td>2023-03-06 16:00:00</td>\n",
       "            <td>Before</td>\n",
       "            <td>Before</td>\n",
       "            <td>OOG</td>\n",
       "            <td>OOG</td>\n",
       "            <td>1</td>\n",
       "            <td>0</td>\n",
       "            <td>0:01:00</td>\n",
       "            <td>1:00:00</td>\n",
       "            <td>1</td>\n",
       "            <td>60</td>\n",
       "        </tr>\n",
       "        <tr>\n",
       "            <td>8</td>\n",
       "            <td>2023-04-05</td>\n",
       "            <td>191</td>\n",
       "            <td>9</td>\n",
       "            <td>2023-04-05 07:58:00</td>\n",
       "            <td>2023-04-05 08:00:00</td>\n",
       "            <td>2023-04-05 12:33:00</td>\n",
       "            <td>2023-04-05 16:00:00</td>\n",
       "            <td>Before</td>\n",
       "            <td>Before</td>\n",
       "            <td>KNO</td>\n",
       "            <td>KNO</td>\n",
       "            <td>1</td>\n",
       "            <td>0</td>\n",
       "            <td>0:02:00</td>\n",
       "            <td>3:27:00</td>\n",
       "            <td>2</td>\n",
       "            <td>207</td>\n",
       "        </tr>\n",
       "        <tr>\n",
       "            <td>7</td>\n",
       "            <td>2023-01-20</td>\n",
       "            <td>314</td>\n",
       "            <td>4</td>\n",
       "            <td>2023-01-20 07:59:00</td>\n",
       "            <td>2023-01-20 08:00:00</td>\n",
       "            <td>2023-01-20 13:52:00</td>\n",
       "            <td>2023-01-20 16:00:00</td>\n",
       "            <td>Before</td>\n",
       "            <td>Before</td>\n",
       "            <td>PLA</td>\n",
       "            <td>PLA</td>\n",
       "            <td>1</td>\n",
       "            <td>0</td>\n",
       "            <td>0:01:00</td>\n",
       "            <td>2:08:00</td>\n",
       "            <td>1</td>\n",
       "            <td>128</td>\n",
       "        </tr>\n",
       "        <tr>\n",
       "            <td>7</td>\n",
       "            <td>2023-01-23</td>\n",
       "            <td>185</td>\n",
       "            <td>8</td>\n",
       "            <td>2023-01-23 07:59:00</td>\n",
       "            <td>2023-01-23 08:00:00</td>\n",
       "            <td>2023-01-23 11:36:00</td>\n",
       "            <td>2023-01-23 16:00:00</td>\n",
       "            <td>Before</td>\n",
       "            <td>Before</td>\n",
       "            <td>KNO</td>\n",
       "            <td>KNO</td>\n",
       "            <td>1</td>\n",
       "            <td>0</td>\n",
       "            <td>0:01:00</td>\n",
       "            <td>4:24:00</td>\n",
       "            <td>1</td>\n",
       "            <td>264</td>\n",
       "        </tr>\n",
       "        <tr>\n",
       "            <td>7</td>\n",
       "            <td>2023-01-24</td>\n",
       "            <td>253</td>\n",
       "            <td>5</td>\n",
       "            <td>2023-01-24 07:52:00</td>\n",
       "            <td>2023-01-24 08:00:00</td>\n",
       "            <td>2023-01-24 13:33:00</td>\n",
       "            <td>2023-01-24 16:00:00</td>\n",
       "            <td>Before</td>\n",
       "            <td>Before</td>\n",
       "            <td>PLA</td>\n",
       "            <td>PLA</td>\n",
       "            <td>1</td>\n",
       "            <td>0</td>\n",
       "            <td>0:08:00</td>\n",
       "            <td>2:27:00</td>\n",
       "            <td>8</td>\n",
       "            <td>147</td>\n",
       "        </tr>\n",
       "        <tr>\n",
       "            <td>7</td>\n",
       "            <td>2023-02-21</td>\n",
       "            <td>188</td>\n",
       "            <td>4</td>\n",
       "            <td>2023-02-21 07:56:00</td>\n",
       "            <td>2023-02-21 08:00:00</td>\n",
       "            <td>2023-02-21 11:39:00</td>\n",
       "            <td>2023-02-21 16:00:00</td>\n",
       "            <td>Before</td>\n",
       "            <td>Before</td>\n",
       "            <td>PLA</td>\n",
       "            <td>PLA</td>\n",
       "            <td>1</td>\n",
       "            <td>0</td>\n",
       "            <td>0:04:00</td>\n",
       "            <td>4:21:00</td>\n",
       "            <td>4</td>\n",
       "            <td>261</td>\n",
       "        </tr>\n",
       "        <tr>\n",
       "            <td>7</td>\n",
       "            <td>2023-04-06</td>\n",
       "            <td>217</td>\n",
       "            <td>3</td>\n",
       "            <td>2023-04-06 07:58:00</td>\n",
       "            <td>2023-04-06 08:00:00</td>\n",
       "            <td>2023-04-06 13:19:00</td>\n",
       "            <td>2023-04-06 16:00:00</td>\n",
       "            <td>Before</td>\n",
       "            <td>Before</td>\n",
       "            <td>CHI</td>\n",
       "            <td>CHI</td>\n",
       "            <td>1</td>\n",
       "            <td>0</td>\n",
       "            <td>0:02:00</td>\n",
       "            <td>2:41:00</td>\n",
       "            <td>2</td>\n",
       "            <td>161</td>\n",
       "        </tr>\n",
       "        <tr>\n",
       "            <td>7</td>\n",
       "            <td>2023-04-20</td>\n",
       "            <td>325</td>\n",
       "            <td>11</td>\n",
       "            <td>2023-04-20 07:58:00</td>\n",
       "            <td>2023-04-20 08:00:00</td>\n",
       "            <td>2023-04-20 14:49:00</td>\n",
       "            <td>2023-04-20 16:00:00</td>\n",
       "            <td>Before</td>\n",
       "            <td>Before</td>\n",
       "            <td>KNO</td>\n",
       "            <td>KNO</td>\n",
       "            <td>1</td>\n",
       "            <td>0</td>\n",
       "            <td>0:02:00</td>\n",
       "            <td>1:11:00</td>\n",
       "            <td>2</td>\n",
       "            <td>71</td>\n",
       "        </tr>\n",
       "        <tr>\n",
       "            <td>7</td>\n",
       "            <td>2023-07-04</td>\n",
       "            <td>247</td>\n",
       "            <td>3</td>\n",
       "            <td>2023-07-04 07:59:00</td>\n",
       "            <td>2023-07-04 08:00:00</td>\n",
       "            <td>2023-07-04 12:39:00</td>\n",
       "            <td>2023-07-04 16:00:00</td>\n",
       "            <td>Before</td>\n",
       "            <td>Before</td>\n",
       "            <td>PLA</td>\n",
       "            <td>PLA</td>\n",
       "            <td>1</td>\n",
       "            <td>0</td>\n",
       "            <td>0:01:00</td>\n",
       "            <td>3:21:00</td>\n",
       "            <td>1</td>\n",
       "            <td>201</td>\n",
       "        </tr>\n",
       "    </tbody>\n",
       "</table>"
      ],
      "text/plain": [
       "+---------+------------+-----------------------------+-----------------+---------------------+---------------------+---------------------+---------------------+-------------------------+-----------------------+----------------------+--------------------+------------------------------+----------------------------+----------------------+--------------------+------------------------------+----------------------------+\n",
       "| theatre |    date    | total_case_duration_minutes | number_of_cases |   actual_day_start  |  expected_day_start |    actual_day_end   |   expected_day_end  | day_start_timeline_type | day_end_timeline_type | day_start_specialism | day_end_specialism | day_start_overtime_indicator | day_end_overtime_indicator | difference_day_start | difference_day_end | difference_minutes_day_start | difference_minutes_day_end |\n",
       "+---------+------------+-----------------------------+-----------------+---------------------+---------------------+---------------------+---------------------+-------------------------+-----------------------+----------------------+--------------------+------------------------------+----------------------------+----------------------+--------------------+------------------------------+----------------------------+\n",
       "|    8    | 2023-01-25 |             244             |        4        | 2023-01-25 07:53:00 | 2023-01-25 08:00:00 | 2023-01-25 12:30:00 | 2023-01-25 16:00:00 |          Before         |         Before        |         KNO          |        KNO         |              1               |             0              |       0:07:00        |      3:30:00       |              7               |            210             |\n",
       "|    8    | 2023-03-06 |             252             |        3        | 2023-03-06 07:59:00 | 2023-03-06 08:00:00 | 2023-03-06 15:00:00 | 2023-03-06 16:00:00 |          Before         |         Before        |         OOG          |        OOG         |              1               |             0              |       0:01:00        |      1:00:00       |              1               |             60             |\n",
       "|    8    | 2023-04-05 |             191             |        9        | 2023-04-05 07:58:00 | 2023-04-05 08:00:00 | 2023-04-05 12:33:00 | 2023-04-05 16:00:00 |          Before         |         Before        |         KNO          |        KNO         |              1               |             0              |       0:02:00        |      3:27:00       |              2               |            207             |\n",
       "|    7    | 2023-01-20 |             314             |        4        | 2023-01-20 07:59:00 | 2023-01-20 08:00:00 | 2023-01-20 13:52:00 | 2023-01-20 16:00:00 |          Before         |         Before        |         PLA          |        PLA         |              1               |             0              |       0:01:00        |      2:08:00       |              1               |            128             |\n",
       "|    7    | 2023-01-23 |             185             |        8        | 2023-01-23 07:59:00 | 2023-01-23 08:00:00 | 2023-01-23 11:36:00 | 2023-01-23 16:00:00 |          Before         |         Before        |         KNO          |        KNO         |              1               |             0              |       0:01:00        |      4:24:00       |              1               |            264             |\n",
       "|    7    | 2023-01-24 |             253             |        5        | 2023-01-24 07:52:00 | 2023-01-24 08:00:00 | 2023-01-24 13:33:00 | 2023-01-24 16:00:00 |          Before         |         Before        |         PLA          |        PLA         |              1               |             0              |       0:08:00        |      2:27:00       |              8               |            147             |\n",
       "|    7    | 2023-02-21 |             188             |        4        | 2023-02-21 07:56:00 | 2023-02-21 08:00:00 | 2023-02-21 11:39:00 | 2023-02-21 16:00:00 |          Before         |         Before        |         PLA          |        PLA         |              1               |             0              |       0:04:00        |      4:21:00       |              4               |            261             |\n",
       "|    7    | 2023-04-06 |             217             |        3        | 2023-04-06 07:58:00 | 2023-04-06 08:00:00 | 2023-04-06 13:19:00 | 2023-04-06 16:00:00 |          Before         |         Before        |         CHI          |        CHI         |              1               |             0              |       0:02:00        |      2:41:00       |              2               |            161             |\n",
       "|    7    | 2023-04-20 |             325             |        11       | 2023-04-20 07:58:00 | 2023-04-20 08:00:00 | 2023-04-20 14:49:00 | 2023-04-20 16:00:00 |          Before         |         Before        |         KNO          |        KNO         |              1               |             0              |       0:02:00        |      1:11:00       |              2               |             71             |\n",
       "|    7    | 2023-07-04 |             247             |        3        | 2023-07-04 07:59:00 | 2023-07-04 08:00:00 | 2023-07-04 12:39:00 | 2023-07-04 16:00:00 |          Before         |         Before        |         PLA          |        PLA         |              1               |             0              |       0:01:00        |      3:21:00       |              1               |            201             |\n",
       "+---------+------------+-----------------------------+-----------------+---------------------+---------------------+---------------------+---------------------+-------------------------+-----------------------+----------------------+--------------------+------------------------------+----------------------------+----------------------+--------------------+------------------------------+----------------------------+"
      ]
     },
     "execution_count": 22,
     "metadata": {},
     "output_type": "execute_result"
    }
   ],
   "source": [
    "%%sql\n",
    "SELECT *\n",
    "FROM YSL_parsed_efficiency_data\n",
    "WHERE day_start_timeline_type = 'Before'\n",
    "LIMIT 10"
   ]
  },
  {
   "cell_type": "code",
   "execution_count": 25,
   "metadata": {},
   "outputs": [
    {
     "data": {
      "text/html": [
       "<span style=\"None\">Running query in &#x27;duckdb&#x27;</span>"
      ],
      "text/plain": [
       "Running query in 'duckdb'"
      ]
     },
     "metadata": {},
     "output_type": "display_data"
    },
    {
     "data": {
      "text/html": [
       "<table>\n",
       "    <thead>\n",
       "        <tr>\n",
       "            <th>Count</th>\n",
       "        </tr>\n",
       "    </thead>\n",
       "    <tbody>\n",
       "        <tr>\n",
       "            <td>1718</td>\n",
       "        </tr>\n",
       "    </tbody>\n",
       "</table>"
      ],
      "text/plain": [
       "+-------+\n",
       "| Count |\n",
       "+-------+\n",
       "|  1718 |\n",
       "+-------+"
      ]
     },
     "execution_count": 25,
     "metadata": {},
     "output_type": "execute_result"
    }
   ],
   "source": [
    "%%sql \n",
    "COPY YSL_parsed_efficiency_data TO '../YSL_parsed_efficiency_data_v1.csv'\n"
   ]
  },
  {
   "cell_type": "code",
   "execution_count": 20,
   "metadata": {
    "vscode": {
     "languageId": "sql"
    }
   },
   "outputs": [
    {
     "data": {
      "text/html": [
       "<span style=\"None\">Running query in &#x27;duckdb&#x27;</span>"
      ],
      "text/plain": [
       "Running query in 'duckdb'"
      ]
     },
     "metadata": {},
     "output_type": "display_data"
    },
    {
     "data": {
      "text/html": [
       "<table>\n",
       "    <thead>\n",
       "        <tr>\n",
       "            <th>\"year\"(sd.date)</th>\n",
       "            <th>\"month\"(sd.date)</th>\n",
       "            <th>(avg(total_turnovertime_minutes) / 60)</th>\n",
       "        </tr>\n",
       "    </thead>\n",
       "    <tbody>\n",
       "        <tr>\n",
       "            <td>2023</td>\n",
       "            <td>1</td>\n",
       "            <td>1.3194444444444444</td>\n",
       "        </tr>\n",
       "        <tr>\n",
       "            <td>2023</td>\n",
       "            <td>2</td>\n",
       "            <td>1.35</td>\n",
       "        </tr>\n",
       "        <tr>\n",
       "            <td>2023</td>\n",
       "            <td>3</td>\n",
       "            <td>1.2166666666666666</td>\n",
       "        </tr>\n",
       "        <tr>\n",
       "            <td>2023</td>\n",
       "            <td>4</td>\n",
       "            <td>1.2595238095238095</td>\n",
       "        </tr>\n",
       "        <tr>\n",
       "            <td>2023</td>\n",
       "            <td>5</td>\n",
       "            <td>1.5958333333333334</td>\n",
       "        </tr>\n",
       "        <tr>\n",
       "            <td>2023</td>\n",
       "            <td>6</td>\n",
       "            <td>1.0479166666666666</td>\n",
       "        </tr>\n",
       "        <tr>\n",
       "            <td>2023</td>\n",
       "            <td>7</td>\n",
       "            <td>2.9541666666666666</td>\n",
       "        </tr>\n",
       "        <tr>\n",
       "            <td>2023</td>\n",
       "            <td>8</td>\n",
       "            <td>1.5611111111111111</td>\n",
       "        </tr>\n",
       "        <tr>\n",
       "            <td>2023</td>\n",
       "            <td>9</td>\n",
       "            <td>2.077777777777778</td>\n",
       "        </tr>\n",
       "        <tr>\n",
       "            <td>2023</td>\n",
       "            <td>10</td>\n",
       "            <td>1.375925925925926</td>\n",
       "        </tr>\n",
       "        <tr>\n",
       "            <td>2023</td>\n",
       "            <td>11</td>\n",
       "            <td>1.0595238095238095</td>\n",
       "        </tr>\n",
       "        <tr>\n",
       "            <td>2023</td>\n",
       "            <td>12</td>\n",
       "            <td>2.1714285714285713</td>\n",
       "        </tr>\n",
       "    </tbody>\n",
       "</table>"
      ],
      "text/plain": [
       "+-----------------+------------------+----------------------------------------+\n",
       "| \"year\"(sd.date) | \"month\"(sd.date) | (avg(total_turnovertime_minutes) / 60) |\n",
       "+-----------------+------------------+----------------------------------------+\n",
       "|       2023      |        1         |           1.3194444444444444           |\n",
       "|       2023      |        2         |                  1.35                  |\n",
       "|       2023      |        3         |           1.2166666666666666           |\n",
       "|       2023      |        4         |           1.2595238095238095           |\n",
       "|       2023      |        5         |           1.5958333333333334           |\n",
       "|       2023      |        6         |           1.0479166666666666           |\n",
       "|       2023      |        7         |           2.9541666666666666           |\n",
       "|       2023      |        8         |           1.5611111111111111           |\n",
       "|       2023      |        9         |           2.077777777777778            |\n",
       "|       2023      |        10        |           1.375925925925926            |\n",
       "|       2023      |        11        |           1.0595238095238095           |\n",
       "|       2023      |        12        |           2.1714285714285713           |\n",
       "+-----------------+------------------+----------------------------------------+"
      ]
     },
     "execution_count": 20,
     "metadata": {},
     "output_type": "execute_result"
    }
   ],
   "source": [
    "%%sql\n",
    "WITH sum_date AS (\n",
    "    SELECT date, theatre, SUM(actual_turnovertime_minutes) AS total_turnovertime_minutes\n",
    "    FROM YSL_parsed_data\n",
    "    GROUP BY date, theatre\n",
    ")\n",
    "SELECT year(sd.date), month(sd.date), AVG(total_turnovertime_minutes) / 60\n",
    "FROM sum_date sd \n",
    "INNER JOIN YSL_parsed_efficiency_data df ON df.date = sd.date AND df.theatre = sd.theatre\n",
    "WHERE 1=1 \n",
    "    AND df.day_start_timeline_type = 'After' AND difference_minutes_day_start < 120\n",
    "    AND df.day_end_timeline_type = 'After' AND difference_minutes_day_end < 120\n",
    "GROUP BY year(sd.date), month(sd.date)"
   ]
  }
 ],
 "metadata": {
  "kernelspec": {
   "display_name": ".venv",
   "language": "python",
   "name": "python3"
  },
  "language_info": {
   "codemirror_mode": {
    "name": "ipython",
    "version": 3
   },
   "file_extension": ".py",
   "mimetype": "text/x-python",
   "name": "python",
   "nbconvert_exporter": "python",
   "pygments_lexer": "ipython3",
   "version": "3.13.1"
  }
 },
 "nbformat": 4,
 "nbformat_minor": 2
}
