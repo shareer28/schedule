{
 "cells": [
  {
   "cell_type": "code",
   "execution_count": null,
   "metadata": {},
   "outputs": [],
   "source": [
    "! pip install duckdb\n",
    "! pip install pandas\n",
    "! pip install seaborn\n",
    "! pip install matplotlib\n",
    "! pip install jupysql pandas matplotlib duckdb-engine"
   ]
  },
  {
   "cell_type": "code",
   "execution_count": null,
   "metadata": {},
   "outputs": [],
   "source": [
    "import duckdb \n",
    "%load_ext sql\n",
    "conn = duckdb.connect()\n",
    "%sql conn --alias duckdb\n",
    "%sql INSTALL spatial; LOAD spatial;"
   ]
  },
  {
   "cell_type": "code",
   "execution_count": null,
   "metadata": {},
   "outputs": [],
   "source": [
    "%%sql \n",
    "SELECT DISTINCT Theatre FROM st_read('Delays Salford.xlsx', open_options = ['HEADERS=FORCE'], layer=\"April\") ORDER BY Theatre"
   ]
  },
  {
   "cell_type": "code",
   "execution_count": 24,
   "metadata": {},
   "outputs": [],
   "source": [
    "import calendar\n",
    "format_sheets = [\n",
    "f\"\"\"\n",
    "SELECT *\n",
    "FROM st_read('Delays Salford.xlsx', layer='{x}', open_options = ['HEADERS=FORCE'])\n",
    "\"\"\" for x in calendar.month_name[1:12]\n",
    "]\n",
    "\n",
    "conn.sql(\"\"\"\n",
    "\n",
    "DROP TABLE IF EXISTS Salford_data;\n",
    "\"\"\")\n",
    "query = \" UNION BY NAME \".join(format_sheets)\n",
    "\n",
    "conn.sql(f\"CREATE TABLE Salford_data AS ({query})\")\n"
   ]
  },
  {
   "cell_type": "code",
   "execution_count": null,
   "metadata": {},
   "outputs": [],
   "source": [
    "%config SqlMagic.displaylimit = None\n",
    "%sql SELECT * FROM Salford_data ORDER BY Date, Theatre LIMIT 50"
   ]
  },
  {
   "cell_type": "code",
   "execution_count": null,
   "metadata": {},
   "outputs": [],
   "source": [
    "%config SqlMagic.displaylimit = None\n",
    "%sql SELECT DISTINCT * FROM Sheet_Desc"
   ]
  },
  {
   "cell_type": "code",
   "execution_count": null,
   "metadata": {},
   "outputs": [],
   "source": [
    "%%sql \n",
    "WITH Salford_data_columns AS (\n",
    "    SELECT\n",
    "        Date,\n",
    "        Theatre,\n",
    "        Speciality,\n",
    "        Surgeon,\n",
    "        \"List Start Time\",\n",
    "        \"Sent for\",\n",
    "        \"Actual Start Time\",\n",
    "        \"Responsible Person\"\n",
    "    FROM Salford_data\n",
    "),\n",
    "Salford_data_filtered AS (\n",
    "    SELECT *\n",
    "    FROM Salford_data_columns\n",
    "    WHERE Date != '2024-03-11'\n",
    "    AND Theatre != 'None'\n",
    "    -- Not relevant speciailities\n",
    "    AND Speciality NOT IN (\n",
    "         'General Emeregency', \n",
    "         'General Emergencies', \n",
    "         'Neuro Emergencies', \n",
    "         'Emergencies'\n",
    "         'Cardioversions', \n",
    "    --     'Endoscopy',\n",
    "    --     'Dental',\n",
    "    --     'Pain',\n",
    "    --     'Renal'\n",
    "    )\n",
    "    AND Surgeon NOT IN (\n",
    "        'Emergencies'\n",
    "    )\n",
    "    -- AND \"Actual Start Time\" IS NOT NULL\n",
    "    -- AND \"List Start Time\" IS NOT NULL\n",
    "),\n",
    "Salford_data_theatre_conversion_float AS (\n",
    "    SELECT \n",
    "        * EXCLUDE (Theatre),\n",
    "        -- Making the theatre consistent\n",
    "        IF(contains(Theatre, '.'), split_part(Theatre, '.', 1), Theatre) AS Theatre\n",
    "    FROM Salford_data_filtered\n",
    "),\n",
    "Salford_data_theatre_conversion_upper AS (\n",
    "    SELECT \n",
    "        * EXCLUDE (Theatre),\n",
    "        -- Making the theatre consistent\n",
    "        UPPER(Theatre) AS Theatre\n",
    "    FROM Salford_data_theatre_conversion_float\n",
    "),\n",
    "Salford_data_date_conversion AS (\n",
    "    SELECT \n",
    "        * EXCLUDE (Date),\n",
    "        COALESCE(try_strptime(Date, '%Y-%m-%d'), strptime(Date, '%d %bt %Y')) AS Date\n",
    "    FROM Salford_data_theatre_conversion_upper \n",
    ")\n",
    "SELECT Theatre, Date, COUNT(*)\n",
    "FROM Salford_data_date_conversion\n",
    "GROUP BY Theatre, Date\n"
   ]
  },
  {
   "cell_type": "code",
   "execution_count": null,
   "metadata": {},
   "outputs": [],
   "source": [
    "%%sql\n",
    "WITH Salford_delay_January AS (\n",
    "  SELECT * \n",
    "  FROM st_read('Delays Salford.xlsx', layer='January', open_options = ['HEADERS=FORCE'])  \n",
    ")\n",
    "SELECT Date\n",
    ", Theatre\n",
    ", Speciality\n",
    ", Surgeon\n",
    ", \"List Start Time\"\n",
    ", \"Team Brief\"\n",
    ", \"Sent for\"\n",
    ", \"Actual Start Time\"\n",
    ", \"Golden Patient\"\n",
    ", *\n",
    "FROM Salford_delay_January\n",
    "LIMIT 10\n"
   ]
  },
  {
   "cell_type": "code",
   "execution_count": null,
   "metadata": {},
   "outputs": [],
   "source": []
  }
 ],
 "metadata": {
  "kernelspec": {
   "display_name": ".venv",
   "language": "python",
   "name": "python3"
  },
  "language_info": {
   "codemirror_mode": {
    "name": "ipython",
    "version": 3
   },
   "file_extension": ".py",
   "mimetype": "text/x-python",
   "name": "python",
   "nbconvert_exporter": "python",
   "pygments_lexer": "ipython3",
   "version": "3.13.1"
  }
 },
 "nbformat": 4,
 "nbformat_minor": 2
}
